{
 "cells": [
  {
   "cell_type": "code",
   "execution_count": null,
   "metadata": {},
   "outputs": [],
   "source": [
    "import seaborn as sns\n",
    "import numpy as np\n",
    "import pandas as pd"
   ]
  },
  {
   "cell_type": "code",
   "execution_count": null,
   "metadata": {},
   "outputs": [],
   "source": [
    "res_filenames = ['30_5', '30_10', '50_5', '50_10']\n",
    "res_data = []\n",
    "\n",
    "for fn in res_filenames:\n",
    "    data = []\n",
    "    with open(fn + '_output_parsed.csv', 'r') as f:\n",
    "        lines = f.readlines()\n",
    "        for line in lines:\n",
    "            data.append(float(line.strip()))\n",
    "    res_data.append(data)"
   ]
  },
  {
   "cell_type": "code",
   "execution_count": null,
   "metadata": {},
   "outputs": [],
   "source": [
    "# calculate percentiles\n",
    "colnames = ['setup', 'avg', 'p90', 'p99', 'p99.9']\n",
    "plot_data_2d_list = []\n",
    "\n",
    "for res_name, res_vals in zip(res_filenames, res_data):\n",
    "    line = [res_name]\n",
    "    line.append(np.average(res_vals))\n",
    "    line = line + list(np.percentile(res_vals, [90, 99, 99.9]))\n",
    "    plot_data_2d_list.append(line)\n",
    "\n",
    "plot_data_df = pd.DataFrame(plot_data_2d_list, columns=colnames)\n",
    "plot_data_df_transform = plot_data_df.melt('setup', var_name='statistic', value_name='seconds')\n",
    "print(plot_data_df_transform)"
   ]
  },
  {
   "cell_type": "code",
   "execution_count": null,
   "metadata": {},
   "outputs": [],
   "source": [
    "#sns.catplot(kind=\"bar\", data=plot_data_df)\n",
    "sns.catplot(kind='bar', x='setup', y='seconds', hue='statistic', data=plot_data_df_transform)"
   ]
  },
  {
   "cell_type": "code",
   "execution_count": null,
   "metadata": {},
   "outputs": [],
   "source": [
    "tc_filenames = ['50', '100', '150', '200']\n",
    "tc_data = []\n",
    "\n",
    "for delay in tc_filenames:\n",
    "    data = []\n",
    "    with open('50_10_output_' + delay + 'ms_parsed.csv', 'r') as f:\n",
    "        lines = f.readlines()\n",
    "        for line in lines:\n",
    "            data.append(float(line.strip()))\n",
    "    tc_data.append(data)"
   ]
  },
  {
   "cell_type": "code",
   "execution_count": null,
   "metadata": {},
   "outputs": [],
   "source": [
    "# calculate percentiles\n",
    "colnames = ['tc_delay(ms)', 'avg', 'p90', 'p99', 'p99.9']\n",
    "plot_data_2d_list = []\n",
    "\n",
    "for res_name, res_vals in zip(tc_filenames, tc_data):\n",
    "    line = [res_name]\n",
    "    line.append(np.average(res_vals))\n",
    "    line = line + list(np.percentile(res_vals, [90, 99, 99.9]))\n",
    "    plot_data_2d_list.append(line)\n",
    "\n",
    "plot_data_df = pd.DataFrame(plot_data_2d_list, columns=colnames)\n",
    "plot_data_df_transform = plot_data_df.melt('tc_delay(ms)', var_name='statistic', value_name='seconds')\n",
    "print(plot_data_df_transform)"
   ]
  },
  {
   "cell_type": "code",
   "execution_count": null,
   "metadata": {},
   "outputs": [],
   "source": [
    "#sns.catplot(kind=\"bar\", data=plot_data_df)\n",
    "sns.catplot(kind='bar', x='tc_delay(ms)', y='seconds', hue='statistic', data=plot_data_df_transform)"
   ]
  }
 ],
 "metadata": {
  "kernelspec": {
   "display_name": "Python 3",
   "language": "python",
   "name": "python3"
  },
  "language_info": {
   "codemirror_mode": {
    "name": "ipython",
    "version": 3
   },
   "file_extension": ".py",
   "mimetype": "text/x-python",
   "name": "python",
   "nbconvert_exporter": "python",
   "pygments_lexer": "ipython3",
   "version": "3.7.6"
  }
 },
 "nbformat": 4,
 "nbformat_minor": 4
}
